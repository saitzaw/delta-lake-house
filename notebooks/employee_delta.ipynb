{
 "cells": [
  {
   "cell_type": "markdown",
   "id": "5ee91d6c-401c-44c0-b8e7-2378ac96b3fa",
   "metadata": {},
   "source": [
    "# Delta table \n",
    "- Update \n",
    "- Delete"
   ]
  },
  {
   "cell_type": "code",
   "execution_count": 1,
   "id": "05580c78-bdf3-4c2b-9d69-e6085b4f7239",
   "metadata": {
    "tags": []
   },
   "outputs": [],
   "source": [
    "import os\n",
    "import logging\n",
    "import configparser"
   ]
  },
  {
   "cell_type": "markdown",
   "id": "68555bb3-6bfb-4f06-9f4d-ebda19fbcb6d",
   "metadata": {},
   "source": [
    "# Read from config"
   ]
  },
  {
   "cell_type": "code",
   "execution_count": 2,
   "id": "71fec1b0-7147-4ed9-b513-851b1b88e05b",
   "metadata": {
    "tags": []
   },
   "outputs": [
    {
     "data": {
      "text/plain": [
       "['/opt/spark/work-dir/configs/config.ini']"
      ]
     },
     "execution_count": 2,
     "metadata": {},
     "output_type": "execute_result"
    }
   ],
   "source": [
    "config = configparser.ConfigParser()\n",
    "root_path = os.path.abspath(os.path.join(os.getcwd(), \"..\"))\n",
    "config.read(os.path.join(root_path, \"configs\",\"config.ini\"))"
   ]
  },
  {
   "cell_type": "markdown",
   "id": "1f11a529-2130-41e4-ae62-34ee72587e73",
   "metadata": {},
   "source": [
    "# Logging function \n",
    "- "
   ]
  },
  {
   "cell_type": "code",
   "execution_count": 3,
   "id": "6e4a9ee8-1a78-4b86-bb8d-94bb05edc1e8",
   "metadata": {
    "tags": []
   },
   "outputs": [],
   "source": [
    "# Create a logger\n",
    "logger = logging.getLogger(\"EMP_DELTA_CRUD\")\n",
    "\n",
    "# Set the level of the logger\n",
    "logger.setLevel(logging.INFO)\n",
    "\n",
    "# Create a FileHandler object and specify the file path\n",
    "log_file_path = config['LOGS']['log_path']\n",
    "file_path = os.path.join(log_file_path,\"employee_delta_crud.log\")\n",
    "os.makedirs(os.path.dirname(file_path), exist_ok=True)\n",
    "file_handler = logging.FileHandler(file_path)\n",
    "\n",
    "# Set the format for the log messages\n",
    "formatter = logging.Formatter('%(asctime)s - %(name)s - %(levelname)s - %(message)s')\n",
    "file_handler.setFormatter(formatter)\n",
    "\n",
    "# Logger handler \n",
    "logger.addHandler(file_handler)"
   ]
  },
  {
   "cell_type": "markdown",
   "id": "4ce9c521-ced2-4119-b3c7-844f522a4682",
   "metadata": {},
   "source": [
    "# Read from delta table"
   ]
  },
  {
   "cell_type": "code",
   "execution_count": 4,
   "id": "9d6a810b-07a1-41c9-8003-f8dd2c42508c",
   "metadata": {
    "tags": []
   },
   "outputs": [],
   "source": [
    "try:\n",
    "    logger.info(\"start reading the delta table\")\n",
    "    emp_delta_table = os.path.join(config['DELTA']['delta_table_path'],\"datq\", \"employee\")\n",
    "    empdf = (spark\n",
    "             .read\n",
    "             .format(\"delta\")\n",
    "             .load(emp_delta_table)\n",
    "            )\n",
    "    logger.info(\"end reading the delta\")\n",
    "except: \n",
    "    logger.error(\"cannot read delta table\")"
   ]
  },
  {
   "cell_type": "code",
   "execution_count": 6,
   "id": "8da6bb2d-97f4-4667-9278-4658783011eb",
   "metadata": {
    "tags": []
   },
   "outputs": [
    {
     "name": "stdout",
     "output_type": "stream",
     "text": [
      "-RECORD 0-----------------------------------\n",
      " Age                      | 41              \n",
      " Attrition                | 1               \n",
      " BusinessTravel           | Travel_Rarely   \n",
      " DailyRate                | 1102            \n",
      " Department               | Sales           \n",
      " DistanceFromHome         | 1               \n",
      " Education                | 2               \n",
      " EducationField           | Life Sciences   \n",
      " EmployeeCount            | 1               \n",
      " EmployeeNumber           | 1               \n",
      " EnvironmentSatisfaction  | 2               \n",
      " Gender                   | Female          \n",
      " HourlyRate               | 94              \n",
      " JobInvolvement           | 3               \n",
      " JobLevel                 | 2               \n",
      " JobRole                  | Sales Executive \n",
      " JobSatisfaction          | 4               \n",
      " MaritalStatus            | Single          \n",
      " MonthlyIncome            | 5993            \n",
      " MonthlyRate              | 19479           \n",
      " NumCompaniesWorked       | 8               \n",
      " Over18                   | Y               \n",
      " OverTime                 | Yes             \n",
      " PercentSalaryHike        | 11              \n",
      " PerformanceRating        | 3               \n",
      " RelationshipSatisfaction | 1               \n",
      " StandardHours            | 80              \n",
      " StockOptionLevel         | 0               \n",
      " TotalWorkingYears        | 8               \n",
      " TrainingTimesLastYear    | 0               \n",
      " WorkLifeBalance          | 1               \n",
      " YearsAtCompany           | 6               \n",
      " YearsInCurrentRole       | 4               \n",
      " YearsSinceLastPromotion  | 0               \n",
      " YearsWithCurrManager     | 5               \n",
      "only showing top 1 row\n",
      "\n"
     ]
    }
   ],
   "source": [
    "empdf.show(1,vertical=True)"
   ]
  },
  {
   "cell_type": "code",
   "execution_count": 15,
   "id": "e888352f-505e-451c-a99c-296fad8e38a4",
   "metadata": {
    "tags": []
   },
   "outputs": [
    {
     "data": {
      "text/plain": [
       "219"
      ]
     },
     "execution_count": 15,
     "metadata": {},
     "output_type": "execute_result"
    }
   ],
   "source": [
    "empdf.filter(col(\"MonthlyIncome\") > 10000).count()"
   ]
  },
  {
   "cell_type": "markdown",
   "id": "1379b36d-7784-41f5-a40b-dcd59ae37cfc",
   "metadata": {},
   "source": [
    "# Acid properties"
   ]
  },
  {
   "cell_type": "code",
   "execution_count": 11,
   "id": "18a60bab-afce-4c10-9853-5e4d01b93ff4",
   "metadata": {
    "tags": []
   },
   "outputs": [],
   "source": [
    "from delta.tables import DeltaTable\n",
    "from pyspark.sql.functions import expr, col"
   ]
  },
  {
   "cell_type": "markdown",
   "id": "9ddbf162-1552-4548-bd27-12d0943b844e",
   "metadata": {},
   "source": [
    "# Update the delta file"
   ]
  },
  {
   "cell_type": "code",
   "execution_count": 8,
   "id": "186821ee-f9cf-4f9b-afc7-cd81c7bada4f",
   "metadata": {
    "tags": []
   },
   "outputs": [],
   "source": [
    "emp_delta_data = os.path.join(config['DELTA']['delta_table_path'],\"datq\", \"employee\")\n",
    "delta_table = DeltaTable.forPath(spark, emp_delta_data)"
   ]
  },
  {
   "cell_type": "code",
   "execution_count": 16,
   "id": "6c6c20f5-435e-485c-8d4b-aeb9bbe6dbe5",
   "metadata": {
    "tags": []
   },
   "outputs": [],
   "source": [
    "(delta_table\n",
    "  .update(\n",
    "    condition = expr(\"MonthlyIncome >= 12000\"),\n",
    "    set = { \"JobSatisfaction\": expr(\"JobSatisfaction + 1\") }\n",
    "  )\n",
    ")"
   ]
  },
  {
   "cell_type": "code",
   "execution_count": 19,
   "id": "a90f084b-2a37-4a43-a7e5-2b14c3b4c443",
   "metadata": {
    "tags": []
   },
   "outputs": [
    {
     "name": "stdout",
     "output_type": "stream",
     "text": [
      "-RECORD 0----------------------------------------\n",
      " Age                      | 29                   \n",
      " Attrition                | 0                    \n",
      " BusinessTravel           | Travel_Rarely        \n",
      " DailyRate                | 1389                 \n",
      " Department               | Research & Develo... \n",
      " DistanceFromHome         | 21                   \n",
      " Education                | 4                    \n",
      " EducationField           | Life Sciences        \n",
      " EmployeeCount            | 1                    \n",
      " EmployeeNumber           | 20                   \n",
      " EnvironmentSatisfaction  | 2                    \n",
      " Gender                   | Female               \n",
      " HourlyRate               | 51                   \n",
      " JobInvolvement           | 4                    \n",
      " JobLevel                 | 3                    \n",
      " JobRole                  | Manufacturing Dir... \n",
      " JobSatisfaction          | 1                    \n",
      " MaritalStatus            | Divorced             \n",
      " MonthlyIncome            | 9980                 \n",
      " MonthlyRate              | 10195                \n",
      " NumCompaniesWorked       | 1                    \n",
      " Over18                   | Y                    \n",
      " OverTime                 | No                   \n",
      " PercentSalaryHike        | 11                   \n",
      " PerformanceRating        | 3                    \n",
      " RelationshipSatisfaction | 3                    \n",
      " StandardHours            | 80                   \n",
      " StockOptionLevel         | 1                    \n",
      " TotalWorkingYears        | 10                   \n",
      " TrainingTimesLastYear    | 1                    \n",
      " WorkLifeBalance          | 3                    \n",
      " YearsAtCompany           | 10                   \n",
      " YearsInCurrentRole       | 9                    \n",
      " YearsSinceLastPromotion  | 8                    \n",
      " YearsWithCurrManager     | 8                    \n",
      "only showing top 1 row\n",
      "\n"
     ]
    }
   ],
   "source": [
    "(delta_table\n",
    "  .toDF()\n",
    "  .orderBy(\"JobSatisfaction\")\n",
    "  .show(1,vertical=True)\n",
    ")"
   ]
  },
  {
   "cell_type": "markdown",
   "id": "69e47f05-686e-4139-9ab5-b2eb54761289",
   "metadata": {},
   "source": [
    "# Check history"
   ]
  },
  {
   "cell_type": "code",
   "execution_count": 20,
   "id": "b02a016e-d929-4774-884f-b86bd37dc80a",
   "metadata": {
    "tags": []
   },
   "outputs": [],
   "source": [
    "delta_table_history = (DeltaTable\n",
    "                        .forPath(spark, emp_delta_data)\n",
    "                        .history()\n",
    "                      )"
   ]
  },
  {
   "cell_type": "code",
   "execution_count": 23,
   "id": "42ef3060-10e4-46d8-b0fa-ee928660c5b0",
   "metadata": {
    "tags": []
   },
   "outputs": [
    {
     "name": "stdout",
     "output_type": "stream",
     "text": [
      "-RECORD 0-----------------------------------\n",
      " version             | 1                    \n",
      " timestamp           | 2023-11-25 16:23:... \n",
      " userId              | null                 \n",
      " userName            | null                 \n",
      " operation           | UPDATE               \n",
      " operationParameters | {predicate -> (Mo... \n",
      " job                 | null                 \n",
      " notebook            | null                 \n",
      " clusterId           | null                 \n",
      " readVersion         | 0                    \n",
      " isolationLevel      | Serializable         \n",
      " isBlindAppend       | false                \n",
      " operationMetrics    | {numRemovedFiles ... \n",
      " userMetadata        | null                 \n",
      " engineInfo          | Apache-Spark/3.3.... \n",
      "-RECORD 1-----------------------------------\n",
      " version             | 0                    \n",
      " timestamp           | 2023-11-25 09:48:... \n",
      " userId              | null                 \n",
      " userName            | null                 \n",
      " operation           | WRITE                \n",
      " operationParameters | {mode -> Overwrit... \n",
      " job                 | null                 \n",
      " notebook            | null                 \n",
      " clusterId           | null                 \n",
      " readVersion         | null                 \n",
      " isolationLevel      | Serializable         \n",
      " isBlindAppend       | false                \n",
      " operationMetrics    | {numFiles -> 1, n... \n",
      " userMetadata        | null                 \n",
      " engineInfo          | Apache-Spark/3.3.... \n",
      "\n"
     ]
    }
   ],
   "source": [
    "delta_table_history.show(vertical=True)"
   ]
  },
  {
   "cell_type": "code",
   "execution_count": 24,
   "id": "b79ae726-2bf4-4b6e-b37a-b3131faca1e4",
   "metadata": {
    "tags": []
   },
   "outputs": [
    {
     "name": "stdout",
     "output_type": "stream",
     "text": [
      "+-------+--------------------+---------+--------------------+--------------------+--------------------+\n",
      "|version|           timestamp|operation| operationParameters|    operationMetrics|          engineInfo|\n",
      "+-------+--------------------+---------+--------------------+--------------------+--------------------+\n",
      "|      1|2023-11-25 16:23:...|   UPDATE|{predicate -> (Mo...|{numRemovedFiles ...|Apache-Spark/3.3....|\n",
      "|      0|2023-11-25 09:48:...|    WRITE|{mode -> Overwrit...|{numFiles -> 1, n...|Apache-Spark/3.3....|\n",
      "+-------+--------------------+---------+--------------------+--------------------+--------------------+\n",
      "\n"
     ]
    }
   ],
   "source": [
    "(delta_table_history\n",
    "   .select(\"version\", \"timestamp\", \"operation\", \"operationParameters\", \"operationMetrics\", \"engineInfo\")\n",
    "   .show()\n",
    ")"
   ]
  },
  {
   "cell_type": "markdown",
   "id": "d343d82a-d70f-4720-a8e2-8289f33be4d0",
   "metadata": {},
   "source": [
    "# Delete the data "
   ]
  },
  {
   "cell_type": "code",
   "execution_count": 32,
   "id": "cfc430c4-5eca-480b-b791-f06a64f83a5b",
   "metadata": {
    "tags": []
   },
   "outputs": [
    {
     "data": {
      "text/plain": [
       "6"
      ]
     },
     "execution_count": 32,
     "metadata": {},
     "output_type": "execute_result"
    }
   ],
   "source": [
    "empdf.filter(col(\"Age\") <= 18).count()"
   ]
  },
  {
   "cell_type": "code",
   "execution_count": 33,
   "id": "36a55536-a42f-4962-bec5-5100c9fb1643",
   "metadata": {
    "tags": []
   },
   "outputs": [],
   "source": [
    "(delta_table\n",
    "  .delete(\n",
    "    condition = expr(\"Age <= 18\")\n",
    "  )\n",
    ")"
   ]
  },
  {
   "cell_type": "code",
   "execution_count": 34,
   "id": "d8a533c6-5b94-48d7-8e31-f994c7b444af",
   "metadata": {
    "tags": []
   },
   "outputs": [],
   "source": [
    "delta_table_history = (DeltaTable\n",
    "                        .forPath(spark, emp_delta_data)\n",
    "                        .history()\n",
    "                      )"
   ]
  },
  {
   "cell_type": "code",
   "execution_count": 36,
   "id": "c7c33893-2da9-4ad4-9014-5907863c668b",
   "metadata": {
    "tags": []
   },
   "outputs": [
    {
     "name": "stdout",
     "output_type": "stream",
     "text": [
      "-RECORD 0----------------------------------------------------------------------------------------------------------------------------------------------------------------------------------------------------------------------------------------------------\n",
      " version             | 2                                                                                                                                                                                                                                     \n",
      " timestamp           | 2023-11-25 16:35:18.513                                                                                                                                                                                                               \n",
      " operation           | DELETE                                                                                                                                                                                                                                \n",
      " operationParameters | {predicate -> [\"(Age <= 18)\"]}                                                                                                                                                                                                        \n",
      " operationMetrics    | {numRemovedFiles -> 1, numRemovedBytes -> 40890, numCopiedRows -> 1052, numAddedChangeFiles -> 0, executionTimeMs -> 784, numDeletedRows -> 6, scanTimeMs -> 416, numAddedFiles -> 1, numAddedBytes -> 40717, rewriteTimeMs -> 367}   \n",
      " engineInfo          | Apache-Spark/3.3.2 Delta-Lake/2.3.0                                                                                                                                                                                                   \n",
      "-RECORD 1----------------------------------------------------------------------------------------------------------------------------------------------------------------------------------------------------------------------------------------------------\n",
      " version             | 1                                                                                                                                                                                                                                     \n",
      " timestamp           | 2023-11-25 16:23:23.885                                                                                                                                                                                                               \n",
      " operation           | UPDATE                                                                                                                                                                                                                                \n",
      " operationParameters | {predicate -> (MonthlyIncome#1086 >= 12000)}                                                                                                                                                                                          \n",
      " operationMetrics    | {numRemovedFiles -> 1, numRemovedBytes -> 40753, numCopiedRows -> 908, numAddedChangeFiles -> 0, executionTimeMs -> 1202, scanTimeMs -> 576, numAddedFiles -> 1, numUpdatedRows -> 150, numAddedBytes -> 40890, rewriteTimeMs -> 624} \n",
      " engineInfo          | Apache-Spark/3.3.2 Delta-Lake/2.3.0                                                                                                                                                                                                   \n",
      "-RECORD 2----------------------------------------------------------------------------------------------------------------------------------------------------------------------------------------------------------------------------------------------------\n",
      " version             | 0                                                                                                                                                                                                                                     \n",
      " timestamp           | 2023-11-25 09:48:37.921                                                                                                                                                                                                               \n",
      " operation           | WRITE                                                                                                                                                                                                                                 \n",
      " operationParameters | {mode -> Overwrite, partitionBy -> []}                                                                                                                                                                                                \n",
      " operationMetrics    | {numFiles -> 1, numOutputRows -> 1058, numOutputBytes -> 40753}                                                                                                                                                                       \n",
      " engineInfo          | Apache-Spark/3.3.2 Delta-Lake/2.3.0                                                                                                                                                                                                   \n",
      "\n"
     ]
    }
   ],
   "source": [
    "(delta_table_history\n",
    "   .select(\"version\", \"timestamp\", \"operation\", \"operationParameters\", \"operationMetrics\", \"engineInfo\")\n",
    "   .show(vertical=True,truncate=False)\n",
    ")"
   ]
  },
  {
   "cell_type": "markdown",
   "id": "1406a9d8-092f-4d2f-9cd2-787d2fc0f16c",
   "metadata": {},
   "source": [
    "# latest version of data"
   ]
  },
  {
   "cell_type": "code",
   "execution_count": 37,
   "id": "3ef5cd68-4e52-4c11-b847-c7db9193cc98",
   "metadata": {
    "tags": []
   },
   "outputs": [],
   "source": [
    "try:\n",
    "    logger.info(\"start reading the delta table\")\n",
    "    emp_delta_table = os.path.join(config['DELTA']['delta_table_path'],\"datq\", \"employee\")\n",
    "    empdf = (spark\n",
    "             .read\n",
    "             .format(\"delta\")\n",
    "             .load(emp_delta_table)\n",
    "            )\n",
    "    logger.info(\"end reading the delta\")\n",
    "except: \n",
    "    logger.error(\"cannot read delta table\")"
   ]
  },
  {
   "cell_type": "code",
   "execution_count": 38,
   "id": "09fa8055-53e0-47c1-a83a-8eda9e3da36e",
   "metadata": {
    "tags": []
   },
   "outputs": [
    {
     "data": {
      "text/plain": [
       "1052"
      ]
     },
     "execution_count": 38,
     "metadata": {},
     "output_type": "execute_result"
    }
   ],
   "source": [
    "empdf.count()"
   ]
  },
  {
   "cell_type": "markdown",
   "id": "1577b815-a5e8-4207-8189-3ff4ebb6186c",
   "metadata": {},
   "source": [
    "# Time travle in Delta table"
   ]
  },
  {
   "cell_type": "code",
   "execution_count": 39,
   "id": "33729385-e376-4a41-87f4-767fc6b080f0",
   "metadata": {
    "tags": []
   },
   "outputs": [
    {
     "name": "stdout",
     "output_type": "stream",
     "text": [
      "-RECORD 0------------------------------------------\n",
      " Age                      | 41                     \n",
      " Attrition                | 1                      \n",
      " BusinessTravel           | Travel_Rarely          \n",
      " DailyRate                | 1102                   \n",
      " Department               | Sales                  \n",
      " DistanceFromHome         | 1                      \n",
      " Education                | 2                      \n",
      " EducationField           | Life Sciences          \n",
      " EmployeeCount            | 1                      \n",
      " EmployeeNumber           | 1                      \n",
      " EnvironmentSatisfaction  | 2                      \n",
      " Gender                   | Female                 \n",
      " HourlyRate               | 94                     \n",
      " JobInvolvement           | 3                      \n",
      " JobLevel                 | 2                      \n",
      " JobRole                  | Sales Executive        \n",
      " JobSatisfaction          | 4                      \n",
      " MaritalStatus            | Single                 \n",
      " MonthlyIncome            | 5993                   \n",
      " MonthlyRate              | 19479                  \n",
      " NumCompaniesWorked       | 8                      \n",
      " Over18                   | Y                      \n",
      " OverTime                 | Yes                    \n",
      " PercentSalaryHike        | 11                     \n",
      " PerformanceRating        | 3                      \n",
      " RelationshipSatisfaction | 1                      \n",
      " StandardHours            | 80                     \n",
      " StockOptionLevel         | 0                      \n",
      " TotalWorkingYears        | 8                      \n",
      " TrainingTimesLastYear    | 0                      \n",
      " WorkLifeBalance          | 1                      \n",
      " YearsAtCompany           | 6                      \n",
      " YearsInCurrentRole       | 4                      \n",
      " YearsSinceLastPromotion  | 0                      \n",
      " YearsWithCurrManager     | 5                      \n",
      "-RECORD 1------------------------------------------\n",
      " Age                      | 49                     \n",
      " Attrition                | 0                      \n",
      " BusinessTravel           | Travel_Frequently      \n",
      " DailyRate                | 279                    \n",
      " Department               | Research & Development \n",
      " DistanceFromHome         | 8                      \n",
      " Education                | 1                      \n",
      " EducationField           | Life Sciences          \n",
      " EmployeeCount            | 1                      \n",
      " EmployeeNumber           | 2                      \n",
      " EnvironmentSatisfaction  | 3                      \n",
      " Gender                   | Male                   \n",
      " HourlyRate               | 61                     \n",
      " JobInvolvement           | 2                      \n",
      " JobLevel                 | 2                      \n",
      " JobRole                  | Research Scientist     \n",
      " JobSatisfaction          | 2                      \n",
      " MaritalStatus            | Married                \n",
      " MonthlyIncome            | 5130                   \n",
      " MonthlyRate              | 24907                  \n",
      " NumCompaniesWorked       | 1                      \n",
      " Over18                   | Y                      \n",
      " OverTime                 | No                     \n",
      " PercentSalaryHike        | 23                     \n",
      " PerformanceRating        | 4                      \n",
      " RelationshipSatisfaction | 4                      \n",
      " StandardHours            | 80                     \n",
      " StockOptionLevel         | 1                      \n",
      " TotalWorkingYears        | 10                     \n",
      " TrainingTimesLastYear    | 3                      \n",
      " WorkLifeBalance          | 3                      \n",
      " YearsAtCompany           | 10                     \n",
      " YearsInCurrentRole       | 7                      \n",
      " YearsSinceLastPromotion  | 1                      \n",
      " YearsWithCurrManager     | 7                      \n",
      "-RECORD 2------------------------------------------\n",
      " Age                      | 37                     \n",
      " Attrition                | 1                      \n",
      " BusinessTravel           | Travel_Rarely          \n",
      " DailyRate                | 1373                   \n",
      " Department               | Research & Development \n",
      " DistanceFromHome         | 2                      \n",
      " Education                | 2                      \n",
      " EducationField           | Other                  \n",
      " EmployeeCount            | 1                      \n",
      " EmployeeNumber           | 4                      \n",
      " EnvironmentSatisfaction  | 4                      \n",
      " Gender                   | Male                   \n",
      " HourlyRate               | 92                     \n",
      " JobInvolvement           | 2                      \n",
      " JobLevel                 | 1                      \n",
      " JobRole                  | Laboratory Technician  \n",
      " JobSatisfaction          | 3                      \n",
      " MaritalStatus            | Single                 \n",
      " MonthlyIncome            | 2090                   \n",
      " MonthlyRate              | 2396                   \n",
      " NumCompaniesWorked       | 6                      \n",
      " Over18                   | Y                      \n",
      " OverTime                 | Yes                    \n",
      " PercentSalaryHike        | 15                     \n",
      " PerformanceRating        | 3                      \n",
      " RelationshipSatisfaction | 2                      \n",
      " StandardHours            | 80                     \n",
      " StockOptionLevel         | 0                      \n",
      " TotalWorkingYears        | 7                      \n",
      " TrainingTimesLastYear    | 3                      \n",
      " WorkLifeBalance          | 3                      \n",
      " YearsAtCompany           | 0                      \n",
      " YearsInCurrentRole       | 0                      \n",
      " YearsSinceLastPromotion  | 0                      \n",
      " YearsWithCurrManager     | 0                      \n",
      "only showing top 3 rows\n",
      "\n"
     ]
    }
   ],
   "source": [
    "emp_delta_table = os.path.join(config['DELTA']['delta_table_path'],\"datq\", \"employee\")\n",
    "df = (spark\n",
    "        .read\n",
    "        .format(\"delta\")\n",
    "        .option(\"versionAsOf\", 0) # we pass an option `versionAsOf` with the required version number we are interested in\n",
    "        .load(emp_delta_table)\n",
    "        .orderBy(\"EmployeeNumber\")\n",
    "      )\n",
    "\n",
    "df.show(3, vertical=True, truncate=False)"
   ]
  },
  {
   "cell_type": "code",
   "execution_count": 40,
   "id": "2b59f951-f8d5-4343-9ca6-6cee4dbd21ba",
   "metadata": {
    "tags": []
   },
   "outputs": [
    {
     "data": {
      "text/plain": [
       "1058"
      ]
     },
     "execution_count": 40,
     "metadata": {},
     "output_type": "execute_result"
    }
   ],
   "source": [
    "df.count()"
   ]
  },
  {
   "cell_type": "code",
   "execution_count": 41,
   "id": "115df4eb-cc93-44e6-8c4e-3f768997f1a9",
   "metadata": {
    "tags": []
   },
   "outputs": [
    {
     "name": "stdout",
     "output_type": "stream",
     "text": [
      "-RECORD 0------------------------------------------\n",
      " Age                      | 41                     \n",
      " Attrition                | 1                      \n",
      " BusinessTravel           | Travel_Rarely          \n",
      " DailyRate                | 1102                   \n",
      " Department               | Sales                  \n",
      " DistanceFromHome         | 1                      \n",
      " Education                | 2                      \n",
      " EducationField           | Life Sciences          \n",
      " EmployeeCount            | 1                      \n",
      " EmployeeNumber           | 1                      \n",
      " EnvironmentSatisfaction  | 2                      \n",
      " Gender                   | Female                 \n",
      " HourlyRate               | 94                     \n",
      " JobInvolvement           | 3                      \n",
      " JobLevel                 | 2                      \n",
      " JobRole                  | Sales Executive        \n",
      " JobSatisfaction          | 4                      \n",
      " MaritalStatus            | Single                 \n",
      " MonthlyIncome            | 5993                   \n",
      " MonthlyRate              | 19479                  \n",
      " NumCompaniesWorked       | 8                      \n",
      " Over18                   | Y                      \n",
      " OverTime                 | Yes                    \n",
      " PercentSalaryHike        | 11                     \n",
      " PerformanceRating        | 3                      \n",
      " RelationshipSatisfaction | 1                      \n",
      " StandardHours            | 80                     \n",
      " StockOptionLevel         | 0                      \n",
      " TotalWorkingYears        | 8                      \n",
      " TrainingTimesLastYear    | 0                      \n",
      " WorkLifeBalance          | 1                      \n",
      " YearsAtCompany           | 6                      \n",
      " YearsInCurrentRole       | 4                      \n",
      " YearsSinceLastPromotion  | 0                      \n",
      " YearsWithCurrManager     | 5                      \n",
      "-RECORD 1------------------------------------------\n",
      " Age                      | 49                     \n",
      " Attrition                | 0                      \n",
      " BusinessTravel           | Travel_Frequently      \n",
      " DailyRate                | 279                    \n",
      " Department               | Research & Development \n",
      " DistanceFromHome         | 8                      \n",
      " Education                | 1                      \n",
      " EducationField           | Life Sciences          \n",
      " EmployeeCount            | 1                      \n",
      " EmployeeNumber           | 2                      \n",
      " EnvironmentSatisfaction  | 3                      \n",
      " Gender                   | Male                   \n",
      " HourlyRate               | 61                     \n",
      " JobInvolvement           | 2                      \n",
      " JobLevel                 | 2                      \n",
      " JobRole                  | Research Scientist     \n",
      " JobSatisfaction          | 2                      \n",
      " MaritalStatus            | Married                \n",
      " MonthlyIncome            | 5130                   \n",
      " MonthlyRate              | 24907                  \n",
      " NumCompaniesWorked       | 1                      \n",
      " Over18                   | Y                      \n",
      " OverTime                 | No                     \n",
      " PercentSalaryHike        | 23                     \n",
      " PerformanceRating        | 4                      \n",
      " RelationshipSatisfaction | 4                      \n",
      " StandardHours            | 80                     \n",
      " StockOptionLevel         | 1                      \n",
      " TotalWorkingYears        | 10                     \n",
      " TrainingTimesLastYear    | 3                      \n",
      " WorkLifeBalance          | 3                      \n",
      " YearsAtCompany           | 10                     \n",
      " YearsInCurrentRole       | 7                      \n",
      " YearsSinceLastPromotion  | 1                      \n",
      " YearsWithCurrManager     | 7                      \n",
      "-RECORD 2------------------------------------------\n",
      " Age                      | 37                     \n",
      " Attrition                | 1                      \n",
      " BusinessTravel           | Travel_Rarely          \n",
      " DailyRate                | 1373                   \n",
      " Department               | Research & Development \n",
      " DistanceFromHome         | 2                      \n",
      " Education                | 2                      \n",
      " EducationField           | Other                  \n",
      " EmployeeCount            | 1                      \n",
      " EmployeeNumber           | 4                      \n",
      " EnvironmentSatisfaction  | 4                      \n",
      " Gender                   | Male                   \n",
      " HourlyRate               | 92                     \n",
      " JobInvolvement           | 2                      \n",
      " JobLevel                 | 1                      \n",
      " JobRole                  | Laboratory Technician  \n",
      " JobSatisfaction          | 3                      \n",
      " MaritalStatus            | Single                 \n",
      " MonthlyIncome            | 2090                   \n",
      " MonthlyRate              | 2396                   \n",
      " NumCompaniesWorked       | 6                      \n",
      " Over18                   | Y                      \n",
      " OverTime                 | Yes                    \n",
      " PercentSalaryHike        | 15                     \n",
      " PerformanceRating        | 3                      \n",
      " RelationshipSatisfaction | 2                      \n",
      " StandardHours            | 80                     \n",
      " StockOptionLevel         | 0                      \n",
      " TotalWorkingYears        | 7                      \n",
      " TrainingTimesLastYear    | 3                      \n",
      " WorkLifeBalance          | 3                      \n",
      " YearsAtCompany           | 0                      \n",
      " YearsInCurrentRole       | 0                      \n",
      " YearsSinceLastPromotion  | 0                      \n",
      " YearsWithCurrManager     | 0                      \n",
      "only showing top 3 rows\n",
      "\n"
     ]
    }
   ],
   "source": [
    "emp_delta_table = os.path.join(config['DELTA']['delta_table_path'],\"datq\", \"employee\")\n",
    "df = (spark\n",
    "        .read\n",
    "        .format(\"delta\")\n",
    "        .option(\"versionAsOf\", 2) # we pass an option `versionAsOf` with the required version number we are interested in\n",
    "        .load(emp_delta_table)\n",
    "        .orderBy(\"EmployeeNumber\")\n",
    "      )\n",
    "\n",
    "df.show(3, vertical=True, truncate=False)"
   ]
  },
  {
   "cell_type": "code",
   "execution_count": 42,
   "id": "2a85f437-a093-49e4-a39a-c0853d1aaf0b",
   "metadata": {
    "tags": []
   },
   "outputs": [
    {
     "data": {
      "text/plain": [
       "1052"
      ]
     },
     "execution_count": 42,
     "metadata": {},
     "output_type": "execute_result"
    }
   ],
   "source": [
    "df.count()"
   ]
  },
  {
   "cell_type": "code",
   "execution_count": null,
   "id": "19d40051-087c-45d6-8ca9-df4202b0de6d",
   "metadata": {},
   "outputs": [],
   "source": []
  }
 ],
 "metadata": {
  "kernelspec": {
   "display_name": "Python 3 (ipykernel)",
   "language": "python",
   "name": "python3"
  },
  "language_info": {
   "codemirror_mode": {
    "name": "ipython",
    "version": 3
   },
   "file_extension": ".py",
   "mimetype": "text/x-python",
   "name": "python",
   "nbconvert_exporter": "python",
   "pygments_lexer": "ipython3",
   "version": "3.9.2"
  }
 },
 "nbformat": 4,
 "nbformat_minor": 5
}
