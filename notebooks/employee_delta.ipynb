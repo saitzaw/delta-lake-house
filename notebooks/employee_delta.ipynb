{
 "cells": [
  {
   "cell_type": "markdown",
   "id": "5ee91d6c-401c-44c0-b8e7-2378ac96b3fa",
   "metadata": {},
   "source": [
    "# Delta table \n",
    "- Update \n",
    "- Delete"
   ]
  },
  {
   "cell_type": "code",
   "execution_count": 2,
   "id": "05580c78-bdf3-4c2b-9d69-e6085b4f7239",
   "metadata": {
    "tags": []
   },
   "outputs": [],
   "source": [
    "import os\n",
    "import logging\n",
    "import configparser"
   ]
  },
  {
   "cell_type": "markdown",
   "id": "68555bb3-6bfb-4f06-9f4d-ebda19fbcb6d",
   "metadata": {},
   "source": [
    "# Read from config"
   ]
  },
  {
   "cell_type": "code",
   "execution_count": 3,
   "id": "71fec1b0-7147-4ed9-b513-851b1b88e05b",
   "metadata": {
    "tags": []
   },
   "outputs": [
    {
     "data": {
      "text/plain": [
       "['/opt/spark/work-dir/configs/config.ini']"
      ]
     },
     "execution_count": 3,
     "metadata": {},
     "output_type": "execute_result"
    }
   ],
   "source": [
    "config = configparser.ConfigParser()\n",
    "root_path = os.path.abspath(os.path.join(os.getcwd(), \"..\"))\n",
    "config.read(os.path.join(root_path, \"configs\",\"config.ini\"))"
   ]
  },
  {
   "cell_type": "markdown",
   "id": "1f11a529-2130-41e4-ae62-34ee72587e73",
   "metadata": {},
   "source": [
    "# Logging function \n",
    "- "
   ]
  },
  {
   "cell_type": "code",
   "execution_count": 4,
   "id": "6e4a9ee8-1a78-4b86-bb8d-94bb05edc1e8",
   "metadata": {
    "tags": []
   },
   "outputs": [],
   "source": [
    "# Create a logger\n",
    "logger = logging.getLogger(\"EMP_DELTA_CRUD\")\n",
    "\n",
    "# Set the level of the logger\n",
    "logger.setLevel(logging.INFO)\n",
    "\n",
    "# Create a FileHandler object and specify the file path\n",
    "log_file_path = config['LOGS']['log_path']\n",
    "file_path = os.path.join(log_file_path,\"employee_delta_crud.log\")\n",
    "os.makedirs(os.path.dirname(file_path), exist_ok=True)\n",
    "file_handler = logging.FileHandler(file_path)\n",
    "\n",
    "# Set the format for the log messages\n",
    "formatter = logging.Formatter('%(asctime)s - %(name)s - %(levelname)s - %(message)s')\n",
    "file_handler.setFormatter(formatter)\n",
    "\n",
    "# Logger handler \n",
    "logger.addHandler(file_handler)"
   ]
  },
  {
   "cell_type": "markdown",
   "id": "4ce9c521-ced2-4119-b3c7-844f522a4682",
   "metadata": {},
   "source": [
    "# Read from delta table"
   ]
  },
  {
   "cell_type": "code",
   "execution_count": 5,
   "id": "9d6a810b-07a1-41c9-8003-f8dd2c42508c",
   "metadata": {
    "tags": []
   },
   "outputs": [],
   "source": [
    "try:\n",
    "    logger.info(\"start reading the delta table\")\n",
    "    emp_delta_table = os.path.join(config['DELTA']['delta_table_path'],\"datq\", \"employee\")\n",
    "    empdf = (spark\n",
    "             .read\n",
    "             .format(\"delta\")\n",
    "             .load(emp_delta_table)\n",
    "            )\n",
    "    logger.info(\"end reading the delta\")\n",
    "except: \n",
    "    logger.error(\"cannot read delta table\")"
   ]
  },
  {
   "cell_type": "code",
   "execution_count": 6,
   "id": "8da6bb2d-97f4-4667-9278-4658783011eb",
   "metadata": {
    "tags": []
   },
   "outputs": [
    {
     "name": "stdout",
     "output_type": "stream",
     "text": [
      "23/11/22 16:52:51 WARN package: Truncated the string representation of a plan since it was too large. This behavior can be adjusted by setting 'spark.sql.debug.maxToStringFields'.\n"
     ]
    },
    {
     "name": "stderr",
     "output_type": "stream",
     "text": [
      "                                                                                \r"
     ]
    },
    {
     "name": "stdout",
     "output_type": "stream",
     "text": [
      "+---------+-----------+---------+-----------+---+------+-----------+-------------------------+----------+\n",
      "|Education|JoiningYear|     City|PaymentTier|Age|Gender|EverBenched|ExperienceInCurrentDomain|LeaveOrNot|\n",
      "+---------+-----------+---------+-----------+---+------+-----------+-------------------------+----------+\n",
      "|Bachelors|       2017|Bangalore|          3| 34|  Male|         No|                        0|         0|\n",
      "|Bachelors|       2013|     Pune|          1| 28|Female|         No|                        3|         1|\n",
      "|Bachelors|       2014|New Delhi|          3| 38|Female|         No|                        2|         0|\n",
      "|  Masters|       2016|Bangalore|          3| 27|  Male|         No|                        5|         1|\n",
      "|  Masters|       2017|     Pune|          3| 24|  Male|        Yes|                        2|         1|\n",
      "|Bachelors|       2016|Bangalore|          3| 22|  Male|         No|                        0|         0|\n",
      "|Bachelors|       2015|New Delhi|          3| 38|  Male|         No|                        0|         0|\n",
      "|Bachelors|       2016|Bangalore|          3| 34|Female|         No|                        2|         1|\n",
      "|Bachelors|       2016|     Pune|          3| 23|  Male|         No|                        1|         0|\n",
      "|  Masters|       2017|New Delhi|          2| 37|  Male|         No|                        2|         0|\n",
      "|  Masters|       2012|Bangalore|          3| 27|  Male|         No|                        5|         1|\n",
      "|Bachelors|       2016|     Pune|          3| 34|  Male|         No|                        3|         0|\n",
      "|Bachelors|       2018|     Pune|          3| 32|  Male|        Yes|                        5|         1|\n",
      "|Bachelors|       2016|Bangalore|          3| 39|  Male|         No|                        2|         0|\n",
      "|Bachelors|       2012|Bangalore|          3| 37|  Male|         No|                        4|         0|\n",
      "|Bachelors|       2017|Bangalore|          1| 29|  Male|         No|                        3|         0|\n",
      "|Bachelors|       2014|Bangalore|          3| 34|Female|         No|                        2|         0|\n",
      "|Bachelors|       2014|     Pune|          3| 34|  Male|         No|                        4|         0|\n",
      "|Bachelors|       2015|     Pune|          2| 30|Female|         No|                        0|         1|\n",
      "|Bachelors|       2016|New Delhi|          2| 22|Female|         No|                        0|         1|\n",
      "+---------+-----------+---------+-----------+---+------+-----------+-------------------------+----------+\n",
      "only showing top 20 rows\n",
      "\n"
     ]
    }
   ],
   "source": [
    "empdf.show()"
   ]
  },
  {
   "cell_type": "code",
   "execution_count": null,
   "id": "18a60bab-afce-4c10-9853-5e4d01b93ff4",
   "metadata": {},
   "outputs": [],
   "source": []
  }
 ],
 "metadata": {
  "kernelspec": {
   "display_name": "Python 3 (ipykernel)",
   "language": "python",
   "name": "python3"
  },
  "language_info": {
   "codemirror_mode": {
    "name": "ipython",
    "version": 3
   },
   "file_extension": ".py",
   "mimetype": "text/x-python",
   "name": "python",
   "nbconvert_exporter": "python",
   "pygments_lexer": "ipython3",
   "version": "3.9.2"
  }
 },
 "nbformat": 4,
 "nbformat_minor": 5
}
