{
 "cells": [
  {
   "cell_type": "markdown",
   "id": "ab54d3b7-5d5d-44d7-9aee-84732aad52f6",
   "metadata": {},
   "source": [
    "# Sample data from the Kaggle \n",
    "- link: https://www.kaggle.com/datasets/tawfikelmetwally/employee-dataset/"
   ]
  },
  {
   "cell_type": "markdown",
   "id": "79e3b13d-53cf-4321-a9cd-42e7b064590c",
   "metadata": {},
   "source": [
    "## read data from the data folder "
   ]
  },
  {
   "cell_type": "code",
   "execution_count": 25,
   "id": "133f835d-61f0-4abc-b089-343e598647e9",
   "metadata": {
    "tags": []
   },
   "outputs": [],
   "source": [
    "import configparser"
   ]
  },
  {
   "cell_type": "code",
   "execution_count": 30,
   "id": "3de7d15b-ff19-4e23-acb0-de620554f184",
   "metadata": {
    "tags": []
   },
   "outputs": [
    {
     "ename": "ModuleNotFoundError",
     "evalue": "No module named 'Path'",
     "output_type": "error",
     "traceback": [
      "\u001b[0;31m---------------------------------------------------------------------------\u001b[0m",
      "\u001b[0;31mModuleNotFoundError\u001b[0m                       Traceback (most recent call last)",
      "Cell \u001b[0;32mIn[30], line 1\u001b[0m\n\u001b[0;32m----> 1\u001b[0m \u001b[38;5;28;01mimport\u001b[39;00m \u001b[38;5;21;01mPath\u001b[39;00m\n",
      "\u001b[0;31mModuleNotFoundError\u001b[0m: No module named 'Path'"
     ]
    }
   ],
   "source": [
    "import Path"
   ]
  },
  {
   "cell_type": "code",
   "execution_count": 26,
   "id": "ba66218c-9fc2-4725-aff5-22b8dadba82f",
   "metadata": {
    "tags": []
   },
   "outputs": [],
   "source": [
    "config = configparser.ConfigParser()"
   ]
  },
  {
   "cell_type": "code",
   "execution_count": 29,
   "id": "1c249d92-b540-401b-9376-0c97a6bd33cd",
   "metadata": {
    "tags": []
   },
   "outputs": [
    {
     "data": {
      "text/plain": [
       "['/opt/spark/work-dir/configs/config.ini']"
      ]
     },
     "execution_count": 29,
     "metadata": {},
     "output_type": "execute_result"
    }
   ],
   "source": [
    "config.read(\"/opt/spark/work-dir/configs/config.ini\")"
   ]
  },
  {
   "cell_type": "code",
   "execution_count": 12,
   "id": "6b61b7e3-13be-41f0-8380-f17c8668851e",
   "metadata": {
    "tags": []
   },
   "outputs": [],
   "source": [
    "import logging"
   ]
  },
  {
   "cell_type": "code",
   "execution_count": 14,
   "id": "8f848c0b-013c-42af-b042-ae7bd8df74ff",
   "metadata": {
    "tags": []
   },
   "outputs": [],
   "source": [
    "# Create a logger\n",
    "logger = logging.getLogger(__name__)\n",
    "\n",
    "# Set the level of the logger\n",
    "logger.setLevel(logging.INFO)\n",
    "\n",
    "# Create a FileHandler object and specify the file path\n",
    "file_handler = logging.FileHandler('/opt/spark/work-dir/logs/my_log.log')\n",
    "\n",
    "# Set the format for the log messages\n",
    "formatter = logging.Formatter('%(asctime)s - %(name)s - %(levelname)s - %(message)s')\n",
    "file_handler.setFormatter(formatter)\n"
   ]
  },
  {
   "cell_type": "code",
   "execution_count": null,
   "id": "2bac3891-630e-4bc2-af61-255c4103198e",
   "metadata": {},
   "outputs": [],
   "source": []
  },
  {
   "cell_type": "code",
   "execution_count": 15,
   "id": "a2d335b9-ac94-4207-9de8-fa355b2428f7",
   "metadata": {
    "tags": []
   },
   "outputs": [],
   "source": [
    "logger.info(\"read the raw data\")\n",
    "empdf = (spark\n",
    "         .read.option(\"header\", True)\n",
    "         .option(\"inferSchema\",True)\n",
    "         .csv(\"/opt/spark/work-dir/data/Datq/Employee.csv\")\n",
    "        )"
   ]
  },
  {
   "cell_type": "code",
   "execution_count": 16,
   "id": "7397bd72-980e-4c2e-93f2-ed8baf59d1d1",
   "metadata": {
    "tags": []
   },
   "outputs": [
    {
     "name": "stdout",
     "output_type": "stream",
     "text": [
      "+---------+-----------+---------+-----------+---+------+-----------+-------------------------+----------+\n",
      "|Education|JoiningYear|     City|PaymentTier|Age|Gender|EverBenched|ExperienceInCurrentDomain|LeaveOrNot|\n",
      "+---------+-----------+---------+-----------+---+------+-----------+-------------------------+----------+\n",
      "|Bachelors|       2017|Bangalore|          3| 34|  Male|         No|                        0|         0|\n",
      "|Bachelors|       2013|     Pune|          1| 28|Female|         No|                        3|         1|\n",
      "|Bachelors|       2014|New Delhi|          3| 38|Female|         No|                        2|         0|\n",
      "|  Masters|       2016|Bangalore|          3| 27|  Male|         No|                        5|         1|\n",
      "|  Masters|       2017|     Pune|          3| 24|  Male|        Yes|                        2|         1|\n",
      "|Bachelors|       2016|Bangalore|          3| 22|  Male|         No|                        0|         0|\n",
      "|Bachelors|       2015|New Delhi|          3| 38|  Male|         No|                        0|         0|\n",
      "|Bachelors|       2016|Bangalore|          3| 34|Female|         No|                        2|         1|\n",
      "|Bachelors|       2016|     Pune|          3| 23|  Male|         No|                        1|         0|\n",
      "|  Masters|       2017|New Delhi|          2| 37|  Male|         No|                        2|         0|\n",
      "|  Masters|       2012|Bangalore|          3| 27|  Male|         No|                        5|         1|\n",
      "|Bachelors|       2016|     Pune|          3| 34|  Male|         No|                        3|         0|\n",
      "|Bachelors|       2018|     Pune|          3| 32|  Male|        Yes|                        5|         1|\n",
      "|Bachelors|       2016|Bangalore|          3| 39|  Male|         No|                        2|         0|\n",
      "|Bachelors|       2012|Bangalore|          3| 37|  Male|         No|                        4|         0|\n",
      "|Bachelors|       2017|Bangalore|          1| 29|  Male|         No|                        3|         0|\n",
      "|Bachelors|       2014|Bangalore|          3| 34|Female|         No|                        2|         0|\n",
      "|Bachelors|       2014|     Pune|          3| 34|  Male|         No|                        4|         0|\n",
      "|Bachelors|       2015|     Pune|          2| 30|Female|         No|                        0|         1|\n",
      "|Bachelors|       2016|New Delhi|          2| 22|Female|         No|                        0|         1|\n",
      "+---------+-----------+---------+-----------+---+------+-----------+-------------------------+----------+\n",
      "only showing top 20 rows\n",
      "\n"
     ]
    }
   ],
   "source": [
    "empdf.show()"
   ]
  },
  {
   "cell_type": "code",
   "execution_count": 23,
   "id": "be23ffaf-f18c-4cbc-9281-d90410e810c4",
   "metadata": {
    "tags": []
   },
   "outputs": [
    {
     "name": "stderr",
     "output_type": "stream",
     "text": [
      "                                                                                \r"
     ]
    },
    {
     "name": "stdout",
     "output_type": "stream",
     "text": [
      "23/11/18 07:04:07 WARN package: Truncated the string representation of a plan since it was too large. This behavior can be adjusted by setting 'spark.sql.debug.maxToStringFields'.\n"
     ]
    },
    {
     "name": "stderr",
     "output_type": "stream",
     "text": [
      "                                                                                \r"
     ]
    }
   ],
   "source": [
    "try:\n",
    "    (empdf\n",
    "      .write\n",
    "      .format(\"delta\")\n",
    "      .mode(\"overwrite\")\n",
    "      .save(\"/opt/spark/work-dir/delta/tables/datq/employee\")\n",
    "    )\n",
    "    logger.info(\"write data to the delta table\")\n",
    "except:\n",
    "    logger.error(\"cannot write the data as delta table\")"
   ]
  },
  {
   "cell_type": "code",
   "execution_count": null,
   "id": "8e7a6dfa-d1f1-41d7-bd31-530f112f2b0e",
   "metadata": {},
   "outputs": [],
   "source": []
  }
 ],
 "metadata": {
  "kernelspec": {
   "display_name": "Python 3 (ipykernel)",
   "language": "python",
   "name": "python3"
  },
  "language_info": {
   "codemirror_mode": {
    "name": "ipython",
    "version": 3
   },
   "file_extension": ".py",
   "mimetype": "text/x-python",
   "name": "python",
   "nbconvert_exporter": "python",
   "pygments_lexer": "ipython3",
   "version": "3.9.2"
  }
 },
 "nbformat": 4,
 "nbformat_minor": 5
}
