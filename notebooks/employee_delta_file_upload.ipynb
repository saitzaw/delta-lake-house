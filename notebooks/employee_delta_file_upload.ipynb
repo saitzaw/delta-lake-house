{
 "cells": [
  {
   "cell_type": "markdown",
   "id": "ab54d3b7-5d5d-44d7-9aee-84732aad52f6",
   "metadata": {},
   "source": [
    "# Sample data from the Kaggle \n",
    "- link: https://www.kaggle.com/datasets/tawfikelmetwally/employee-dataset/"
   ]
  },
  {
   "cell_type": "markdown",
   "id": "79e3b13d-53cf-4321-a9cd-42e7b064590c",
   "metadata": {},
   "source": [
    "## Import the required modules"
   ]
  },
  {
   "cell_type": "code",
   "execution_count": 1,
   "id": "133f835d-61f0-4abc-b089-343e598647e9",
   "metadata": {
    "tags": []
   },
   "outputs": [],
   "source": [
    "import os\n",
    "import logging\n",
    "import configparser"
   ]
  },
  {
   "cell_type": "markdown",
   "id": "abb25bcc-c804-4711-b67f-e3df9074d3e7",
   "metadata": {},
   "source": [
    "# Read the Config file "
   ]
  },
  {
   "cell_type": "code",
   "execution_count": 2,
   "id": "ac8ef889-3dc9-4fae-8dab-f19c066b39da",
   "metadata": {
    "tags": []
   },
   "outputs": [
    {
     "data": {
      "text/plain": [
       "['/opt/spark/work-dir/configs/config.ini']"
      ]
     },
     "execution_count": 2,
     "metadata": {},
     "output_type": "execute_result"
    }
   ],
   "source": [
    "config = configparser.ConfigParser()\n",
    "root_path = os.path.abspath(os.path.join(os.getcwd(), \"..\"))\n",
    "config.read(os.path.join(root_path, \"configs\",\"config.ini\"))"
   ]
  },
  {
   "cell_type": "markdown",
   "id": "a3fc6bb2-a151-4886-b49f-0c333c5ed7c8",
   "metadata": {},
   "source": [
    "# Logging function "
   ]
  },
  {
   "cell_type": "code",
   "execution_count": 4,
   "id": "8f848c0b-013c-42af-b042-ae7bd8df74ff",
   "metadata": {
    "tags": []
   },
   "outputs": [],
   "source": [
    "# Create a logger\n",
    "logger = logging.getLogger(\"EMP_DELTA_UPLOAD\")\n",
    "\n",
    "# Set the level of the logger\n",
    "logger.setLevel(logging.INFO)\n",
    "\n",
    "# Create a FileHandler object and specify the file path\n",
    "log_file_path = config['LOGS']['log_path']\n",
    "file_path = os.path.join(log_file_path,\"employee_info.log\")\n",
    "os.makedirs(os.path.dirname(file_path), exist_ok=True)\n",
    "file_handler = logging.FileHandler(file_path)\n",
    "\n",
    "# Set the format for the log messages\n",
    "formatter = logging.Formatter('%(asctime)s - %(name)s - %(levelname)s - %(message)s')\n",
    "file_handler.setFormatter(formatter)\n",
    "\n",
    "# Logger handler \n",
    "logger.addHandler(file_handler)\n"
   ]
  },
  {
   "cell_type": "markdown",
   "id": "5d1a87d6-d650-4e8d-a290-fa4ef78d73e4",
   "metadata": {},
   "source": [
    "# Read from the data source [Flat file]"
   ]
  },
  {
   "cell_type": "code",
   "execution_count": 5,
   "id": "a2d335b9-ac94-4207-9de8-fa355b2428f7",
   "metadata": {
    "tags": []
   },
   "outputs": [
    {
     "name": "stderr",
     "output_type": "stream",
     "text": [
      "INFO:EMP_DELTA_UPLOAD:end reading the raw data\n"
     ]
    }
   ],
   "source": [
    "try:\n",
    "    logger.info(\"start reading the raw data\")\n",
    "    emp_file = os.path.join(config['DATA']['data_path'],\"Datq\", \"datq_employees.csv\")\n",
    "    empdf = (spark\n",
    "             .read.option(\"header\", True)\n",
    "             .option(\"inferSchema\",True)\n",
    "             .csv(emp_file)\n",
    "            )\n",
    "    logger.info(\"end reading the raw data\")\n",
    "except: \n",
    "    logger.error(\"cannot read raw data\")"
   ]
  },
  {
   "cell_type": "code",
   "execution_count": 8,
   "id": "7397bd72-980e-4c2e-93f2-ed8baf59d1d1",
   "metadata": {
    "tags": []
   },
   "outputs": [
    {
     "name": "stdout",
     "output_type": "stream",
     "text": [
      "-RECORD 0-----------------------------------\n",
      " Age                      | 41              \n",
      " Attrition                | 1               \n",
      " BusinessTravel           | Travel_Rarely   \n",
      " DailyRate                | 1102            \n",
      " Department               | Sales           \n",
      " DistanceFromHome         | 1               \n",
      " Education                | 2               \n",
      " EducationField           | Life Sciences   \n",
      " EmployeeCount            | 1               \n",
      " EmployeeNumber           | 1               \n",
      " EnvironmentSatisfaction  | 2               \n",
      " Gender                   | Female          \n",
      " HourlyRate               | 94              \n",
      " JobInvolvement           | 3               \n",
      " JobLevel                 | 2               \n",
      " JobRole                  | Sales Executive \n",
      " JobSatisfaction          | 4               \n",
      " MaritalStatus            | Single          \n",
      " MonthlyIncome            | 5993            \n",
      " MonthlyRate              | 19479           \n",
      " NumCompaniesWorked       | 8               \n",
      " Over18                   | Y               \n",
      " OverTime                 | Yes             \n",
      " PercentSalaryHike        | 11              \n",
      " PerformanceRating        | 3               \n",
      " RelationshipSatisfaction | 1               \n",
      " StandardHours            | 80              \n",
      " StockOptionLevel         | 0               \n",
      " TotalWorkingYears        | 8               \n",
      " TrainingTimesLastYear    | 0               \n",
      " WorkLifeBalance          | 1               \n",
      " YearsAtCompany           | 6               \n",
      " YearsInCurrentRole       | 4               \n",
      " YearsSinceLastPromotion  | 0               \n",
      " YearsWithCurrManager     | 5               \n",
      "only showing top 1 row\n",
      "\n"
     ]
    }
   ],
   "source": [
    "empdf.show(1,truncate=True, vertical=True)"
   ]
  },
  {
   "cell_type": "code",
   "execution_count": 9,
   "id": "25622f89-ab0b-4b27-8c00-a89fa70f7b9b",
   "metadata": {
    "tags": []
   },
   "outputs": [
    {
     "name": "stdout",
     "output_type": "stream",
     "text": [
      "root\n",
      " |-- Age: integer (nullable = true)\n",
      " |-- Attrition: integer (nullable = true)\n",
      " |-- BusinessTravel: string (nullable = true)\n",
      " |-- DailyRate: integer (nullable = true)\n",
      " |-- Department: string (nullable = true)\n",
      " |-- DistanceFromHome: integer (nullable = true)\n",
      " |-- Education: integer (nullable = true)\n",
      " |-- EducationField: string (nullable = true)\n",
      " |-- EmployeeCount: integer (nullable = true)\n",
      " |-- EmployeeNumber: integer (nullable = true)\n",
      " |-- EnvironmentSatisfaction: integer (nullable = true)\n",
      " |-- Gender: string (nullable = true)\n",
      " |-- HourlyRate: integer (nullable = true)\n",
      " |-- JobInvolvement: integer (nullable = true)\n",
      " |-- JobLevel: integer (nullable = true)\n",
      " |-- JobRole: string (nullable = true)\n",
      " |-- JobSatisfaction: integer (nullable = true)\n",
      " |-- MaritalStatus: string (nullable = true)\n",
      " |-- MonthlyIncome: integer (nullable = true)\n",
      " |-- MonthlyRate: integer (nullable = true)\n",
      " |-- NumCompaniesWorked: integer (nullable = true)\n",
      " |-- Over18: string (nullable = true)\n",
      " |-- OverTime: string (nullable = true)\n",
      " |-- PercentSalaryHike: integer (nullable = true)\n",
      " |-- PerformanceRating: integer (nullable = true)\n",
      " |-- RelationshipSatisfaction: integer (nullable = true)\n",
      " |-- StandardHours: integer (nullable = true)\n",
      " |-- StockOptionLevel: integer (nullable = true)\n",
      " |-- TotalWorkingYears: integer (nullable = true)\n",
      " |-- TrainingTimesLastYear: integer (nullable = true)\n",
      " |-- WorkLifeBalance: integer (nullable = true)\n",
      " |-- YearsAtCompany: integer (nullable = true)\n",
      " |-- YearsInCurrentRole: integer (nullable = true)\n",
      " |-- YearsSinceLastPromotion: integer (nullable = true)\n",
      " |-- YearsWithCurrManager: integer (nullable = true)\n",
      "\n"
     ]
    }
   ],
   "source": [
    "empdf.printSchema()"
   ]
  },
  {
   "cell_type": "markdown",
   "id": "f0f83b05-2527-4f8b-b0bc-baa5fe8eea1f",
   "metadata": {},
   "source": [
    "# Save Data to the Delta File"
   ]
  },
  {
   "cell_type": "code",
   "execution_count": 10,
   "id": "be23ffaf-f18c-4cbc-9281-d90410e810c4",
   "metadata": {
    "tags": []
   },
   "outputs": [
    {
     "name": "stderr",
     "output_type": "stream",
     "text": [
      "INFO:EMP_DELTA_UPLOAD:start writing data to the delta table\n",
      "INFO:EMP_DELTA_UPLOAD:end writing data to the delta table                       \n"
     ]
    }
   ],
   "source": [
    "try:\n",
    "    logger.info(\"start writing data to the delta table\")\n",
    "    emp_save_path = os.path.join(\n",
    "        config[\"DELTA\"][\"delta_table_path\"], \"datq\", \"employee\"\n",
    "    )\n",
    "    (empdf\n",
    "      .write\n",
    "      .format(\"delta\")\n",
    "      .mode(\"overwrite\")\n",
    "      .save(emp_save_path)\n",
    "    )\n",
    "    logger.info(\"end writing data to the delta table\")\n",
    "except:\n",
    "    logger.error(\"cannot write the data as delta table\")"
   ]
  },
  {
   "cell_type": "code",
   "execution_count": 11,
   "id": "8e7a6dfa-d1f1-41d7-bd31-530f112f2b0e",
   "metadata": {
    "tags": []
   },
   "outputs": [],
   "source": [
    "spark.stop()"
   ]
  },
  {
   "cell_type": "code",
   "execution_count": null,
   "id": "3b922e45-4277-4fe1-90f1-a925541b4ba5",
   "metadata": {},
   "outputs": [],
   "source": []
  }
 ],
 "metadata": {
  "kernelspec": {
   "display_name": "Python 3 (ipykernel)",
   "language": "python",
   "name": "python3"
  },
  "language_info": {
   "codemirror_mode": {
    "name": "ipython",
    "version": 3
   },
   "file_extension": ".py",
   "mimetype": "text/x-python",
   "name": "python",
   "nbconvert_exporter": "python",
   "pygments_lexer": "ipython3",
   "version": "3.9.2"
  }
 },
 "nbformat": 4,
 "nbformat_minor": 5
}
